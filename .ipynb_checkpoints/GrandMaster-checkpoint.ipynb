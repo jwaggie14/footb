{
 "cells": [
  {
   "cell_type": "markdown",
   "metadata": {},
   "source": [
    "# Start Up"
   ]
  },
  {
   "cell_type": "markdown",
   "metadata": {},
   "source": [
    "Run the cells below. They will open a browser window through selenium. (check your open windows if you don't notice it. It will be a firefox page with an orange url bar.)\n",
    "\n",
    "Log into your ESPN account and navigate to the draft.\n",
    "\n",
    "Make sure to keep everything in a single tab. Do not open links as new windows, do not open links as new tabs. This should be the default behavior if you just click on things normally (but no promises - this is hacked together at best...)"
   ]
  },
  {
   "cell_type": "markdown",
   "metadata": {},
   "source": [
    "### Updating the probabilities\n",
    "\n",
    "The default score/pick probability info is for 10 team, standard (non-ppr) scoring.\n",
    "\n",
    "You can update the probabilities with different parameters ```grandmaster.create_prob_pickle(teams, outputname, mapping_path, scoring, outputpath)``` where teams is the number of teams in your league, and scoring is one of these four entries:\n",
    " - 'standard'\n",
    " - 'ppr'\n",
    " - 'half-ppr'\n",
    " - '2qb\n",
    "\n",
    "The other parameters deal with file mappings.\n",
    " \n",
    "Follow this link to see the source data [Fantasy Football Calculator](https://fantasyfootballcalculator.com/scenario-calculator)"
   ]
  },
  {
   "cell_type": "markdown",
   "metadata": {},
   "source": [
    "### Updating/Changing the Projections\n",
    "\n",
    "You can call ```grandmaster.process_projections(projection_path, idmap_path, output_path)```\n",
    "to update or change the projections. ```projection_path``` is the direction to the projection files. I use [fantasyfootballanalytics.net](https://www.fantasyfootballanalytics.net)\n",
    "\n",
    "You can use any source of projections as long as you can map them to the ESPN IDs. \n",
    "\n",
    "Required columns:\n",
    " - 'position'\n",
    " - 'player'\n",
    " - 'points'\n",
    " - 'adp'\n",
    " \n",
    "This needs more development, specifically:\n",
    " - mapping tables to cross-reference all the different sources to some sort of master ID\n",
    " - It would also be useful to map the player IDs to the different providers.\n",
    " - making the column naming more flexible \n",
    " \n",
    " \n",
    " # Current Use.\n",
    " I've put together a rough GUI using widgets. Follow the instructions [here](https://ipywidgets.readthedocs.io/en/latest/user_install.html) to install and enable them.\n",
    " \n",
    " Alternatively, there is another notebook in the git repo labeled No GUI or something that just calls the functions directly."
   ]
  },
  {
   "cell_type": "code",
   "execution_count": 1,
   "metadata": {},
   "outputs": [],
   "source": [
    "%load_ext autoreload\n",
    "%autoreload 2"
   ]
  },
  {
   "cell_type": "code",
   "execution_count": 2,
   "metadata": {},
   "outputs": [],
   "source": [
    "from ipywidgets import interact, interactive, fixed, interact_manual\n",
    "import ipywidgets as widgets\n",
    "import pandas as pd \n",
    "import numpy as np\n",
    "import grandmaster as gm"
   ]
  },
  {
   "cell_type": "code",
   "execution_count": 3,
   "metadata": {},
   "outputs": [],
   "source": [
    "process_proj = interactive(gm.process_projections,\n",
    "                           {'manual':True},\n",
    "                           projection_path='https://raw.githubusercontent.com/jwaggie14/footb/master/ffa_customrankings2020-0.csv',\n",
    "                           idmap_path='https://raw.githubusercontent.com/jwaggie14/footb/master/espn_ffa_map.csv',\n",
    "                           output_path='players_NEW.pkl'\n",
    "                          )\n",
    "\n",
    "update_prob = interactive(gm.create_prob_pickle,\n",
    "                          {'manual':True},\n",
    "                          teams=[8,10,12,14],\n",
    "                          scoring=['standard','ppr','half-ppr','2qb'],\n",
    "                          outputname='pick_prob_NEW.pkl',\n",
    "                          mapping_path='https://raw.githubusercontent.com/jwaggie14/footb/master/probmap.csv'\n",
    "                         )     "
   ]
  },
  {
   "cell_type": "markdown",
   "metadata": {},
   "source": [
    "# Update Projections\n",
    "fill in the fields and click \"Run Interact\" to process projections.\n",
    "\n",
    "The projection_path defaults to the projections that I've stored in the github repository. These are the projections for standard, non-ppr scoring.\n",
    "\n",
    "You can go to [fantasyfootballanalytics.net](https://www.fantasyfootballanalytics.net) to create projections that match your league's settings. Download the custom rankings. Update the projection_path to point to your custom rankings file."
   ]
  },
  {
   "cell_type": "code",
   "execution_count": 4,
   "metadata": {},
   "outputs": [
    {
     "data": {
      "application/vnd.jupyter.widget-view+json": {
       "model_id": "abead88d995848b18b87c1aa50c8f56e",
       "version_major": 2,
       "version_minor": 0
      },
      "text/plain": [
       "interactive(children=(Text(value='https://raw.githubusercontent.com/jwaggie14/footb/master/ffa_customrankings2…"
      ]
     },
     "metadata": {},
     "output_type": "display_data"
    }
   ],
   "source": [
    "display(process_proj)"
   ]
  },
  {
   "cell_type": "markdown",
   "metadata": {},
   "source": [
    "# Update Pick Probabilities\n",
    "select the closest Team number and Scoring settings, fill in the mapping path and outputname,\n",
    "then click \"Run Interact\". Scraping this info will take a minute. \n",
    "\n",
    "Only scrape the picks once a day. The probabilities don't change very much, so there is no need to swamp their website with requests."
   ]
  },
  {
   "cell_type": "code",
   "execution_count": 5,
   "metadata": {
    "scrolled": true
   },
   "outputs": [
    {
     "data": {
      "application/vnd.jupyter.widget-view+json": {
       "model_id": "2f9e3e0f1fcd4ffb8669da94fee79771",
       "version_major": 2,
       "version_minor": 0
      },
      "text/plain": [
       "interactive(children=(Dropdown(description='teams', options=(8, 10, 12, 14), value=8), Dropdown(description='s…"
      ]
     },
     "metadata": {},
     "output_type": "display_data"
    }
   ],
   "source": [
    "display(update_prob)"
   ]
  },
  {
   "cell_type": "code",
   "execution_count": 10,
   "metadata": {},
   "outputs": [],
   "source": [
    "def start_draft(team_name,proj_path,prob_path):\n",
    "    global projections\n",
    "    global probabilities\n",
    "    global d\n",
    "    print('1 of 4: reading projections')\n",
    "    projections = pd.read_pickle(proj_path)\n",
    "    print('2 of 4: reading pick probabilities')\n",
    "    probabilities = pd.read_pickle(prob_path)\n",
    "    print('3 of 4: launching driver - this will take a minute')\n",
    "    d = gm.ds.draft_monitor(team_name)\n",
    "    print('4 of 4: done')"
   ]
  },
  {
   "cell_type": "code",
   "execution_count": 11,
   "metadata": {},
   "outputs": [],
   "source": [
    "x = interactive(start_draft,\n",
    "                {'manual':True},\n",
    "                team_name='Team LASTNAME',\n",
    "                proj_path=fixed(process_proj.children[2].value),\n",
    "                prob_path=fixed(update_prob.children[2].value)\n",
    "               )"
   ]
  },
  {
   "cell_type": "markdown",
   "metadata": {},
   "source": [
    "# Launch your draft\n",
    "Fill in your espn team name and press Run Interact again. This will bring up a new firefox window that you will use for your actual draft.\n",
    "\n",
    "Use this new window to log into your espn account and navigate to your draft room."
   ]
  },
  {
   "cell_type": "code",
   "execution_count": 12,
   "metadata": {},
   "outputs": [
    {
     "data": {
      "application/vnd.jupyter.widget-view+json": {
       "model_id": "954afba9507a45018667875bea27f6cd",
       "version_major": 2,
       "version_minor": 0
      },
      "text/plain": [
       "interactive(children=(Text(value='Team LASTNAME', description='team_name'), Button(description='Run Interact',…"
      ]
     },
     "metadata": {},
     "output_type": "display_data"
    }
   ],
   "source": [
    "display(x)"
   ]
  },
  {
   "cell_type": "markdown",
   "metadata": {},
   "source": [
    "If you made a typo in your team name, you will get a \"'Team Whatever' is not in list\" error.\n",
    "Change your team name with ```d.team_name = \"correct team name here\"```"
   ]
  },
  {
   "cell_type": "code",
   "execution_count": 13,
   "metadata": {},
   "outputs": [],
   "source": [
    "d.configure_draft()"
   ]
  },
  {
   "cell_type": "markdown",
   "metadata": {},
   "source": [
    "Run ```d.myteam``` to make sure the number matches your first round pick.\n",
    "If it's wrong, change it with ```d.myteam = YOURPICK```\n",
    "\n",
    "There are also some other info that you can dig into if you're interested like rosters."
   ]
  },
  {
   "cell_type": "code",
   "execution_count": 14,
   "metadata": {},
   "outputs": [
    {
     "data": {
      "text/plain": [
       "10"
      ]
     },
     "execution_count": 14,
     "metadata": {},
     "output_type": "execute_result"
    }
   ],
   "source": [
    "d.myteam"
   ]
  },
  {
   "cell_type": "code",
   "execution_count": 15,
   "metadata": {},
   "outputs": [
    {
     "data": {
      "text/html": [
       "<div>\n",
       "<style scoped>\n",
       "    .dataframe tbody tr th:only-of-type {\n",
       "        vertical-align: middle;\n",
       "    }\n",
       "\n",
       "    .dataframe tbody tr th {\n",
       "        vertical-align: top;\n",
       "    }\n",
       "\n",
       "    .dataframe thead th {\n",
       "        text-align: right;\n",
       "    }\n",
       "</style>\n",
       "<table border=\"1\" class=\"dataframe\">\n",
       "  <thead>\n",
       "    <tr style=\"text-align: right;\">\n",
       "      <th></th>\n",
       "      <th>position</th>\n",
       "      <th>player</th>\n",
       "    </tr>\n",
       "  </thead>\n",
       "  <tbody>\n",
       "    <tr>\n",
       "      <th>0</th>\n",
       "      <td>QB</td>\n",
       "      <td>NaN</td>\n",
       "    </tr>\n",
       "    <tr>\n",
       "      <th>1</th>\n",
       "      <td>RB</td>\n",
       "      <td>NaN</td>\n",
       "    </tr>\n",
       "    <tr>\n",
       "      <th>2</th>\n",
       "      <td>RB</td>\n",
       "      <td>NaN</td>\n",
       "    </tr>\n",
       "    <tr>\n",
       "      <th>3</th>\n",
       "      <td>WR</td>\n",
       "      <td>NaN</td>\n",
       "    </tr>\n",
       "    <tr>\n",
       "      <th>4</th>\n",
       "      <td>WR</td>\n",
       "      <td>NaN</td>\n",
       "    </tr>\n",
       "    <tr>\n",
       "      <th>5</th>\n",
       "      <td>TE</td>\n",
       "      <td>NaN</td>\n",
       "    </tr>\n",
       "    <tr>\n",
       "      <th>6</th>\n",
       "      <td>FLEX</td>\n",
       "      <td>NaN</td>\n",
       "    </tr>\n",
       "    <tr>\n",
       "      <th>7</th>\n",
       "      <td>D/ST</td>\n",
       "      <td>NaN</td>\n",
       "    </tr>\n",
       "    <tr>\n",
       "      <th>8</th>\n",
       "      <td>K</td>\n",
       "      <td>NaN</td>\n",
       "    </tr>\n",
       "    <tr>\n",
       "      <th>9</th>\n",
       "      <td>BE</td>\n",
       "      <td>NaN</td>\n",
       "    </tr>\n",
       "    <tr>\n",
       "      <th>10</th>\n",
       "      <td>BE</td>\n",
       "      <td>NaN</td>\n",
       "    </tr>\n",
       "    <tr>\n",
       "      <th>11</th>\n",
       "      <td>BE</td>\n",
       "      <td>NaN</td>\n",
       "    </tr>\n",
       "    <tr>\n",
       "      <th>12</th>\n",
       "      <td>BE</td>\n",
       "      <td>NaN</td>\n",
       "    </tr>\n",
       "    <tr>\n",
       "      <th>13</th>\n",
       "      <td>BE</td>\n",
       "      <td>NaN</td>\n",
       "    </tr>\n",
       "    <tr>\n",
       "      <th>14</th>\n",
       "      <td>BE</td>\n",
       "      <td>NaN</td>\n",
       "    </tr>\n",
       "    <tr>\n",
       "      <th>15</th>\n",
       "      <td>BE</td>\n",
       "      <td>NaN</td>\n",
       "    </tr>\n",
       "  </tbody>\n",
       "</table>\n",
       "</div>"
      ],
      "text/plain": [
       "   position  player\n",
       "0        QB     NaN\n",
       "1        RB     NaN\n",
       "2        RB     NaN\n",
       "3        WR     NaN\n",
       "4        WR     NaN\n",
       "5        TE     NaN\n",
       "6      FLEX     NaN\n",
       "7      D/ST     NaN\n",
       "8         K     NaN\n",
       "9        BE     NaN\n",
       "10       BE     NaN\n",
       "11       BE     NaN\n",
       "12       BE     NaN\n",
       "13       BE     NaN\n",
       "14       BE     NaN\n",
       "15       BE     NaN"
      ]
     },
     "execution_count": 15,
     "metadata": {},
     "output_type": "execute_result"
    }
   ],
   "source": [
    "d.rosters[d.myteam]"
   ]
  },
  {
   "cell_type": "markdown",
   "metadata": {},
   "source": [
    "If you just want recommendations, run ```gm.tell_me_what_to_do()``` on your every turn."
   ]
  },
  {
   "cell_type": "code",
   "execution_count": 27,
   "metadata": {},
   "outputs": [
    {
     "name": "stdout",
     "output_type": "stream",
     "text": [
      "Roster Needs\n",
      "BE      7\n",
      "RB      1\n",
      "TE      1\n",
      "D/ST    1\n",
      "WR      1\n",
      "K       1\n",
      "FLEX    1\n",
      "Name: position, dtype: int64\n"
     ]
    },
    {
     "data": {
      "text/html": [
       "<div>\n",
       "<style scoped>\n",
       "    .dataframe tbody tr th:only-of-type {\n",
       "        vertical-align: middle;\n",
       "    }\n",
       "\n",
       "    .dataframe tbody tr th {\n",
       "        vertical-align: top;\n",
       "    }\n",
       "\n",
       "    .dataframe thead th {\n",
       "        text-align: right;\n",
       "    }\n",
       "</style>\n",
       "<table border=\"1\" class=\"dataframe\">\n",
       "  <thead>\n",
       "    <tr style=\"text-align: right;\">\n",
       "      <th></th>\n",
       "      <th>player</th>\n",
       "      <th>team</th>\n",
       "      <th>position</th>\n",
       "      <th>points</th>\n",
       "      <th>adp</th>\n",
       "      <th>oc_raw_0</th>\n",
       "      <th>oc_adj_0</th>\n",
       "      <th>oc_adj_1</th>\n",
       "    </tr>\n",
       "  </thead>\n",
       "  <tbody>\n",
       "    <tr>\n",
       "      <th>17</th>\n",
       "      <td>Todd Gurley</td>\n",
       "      <td>ATL</td>\n",
       "      <td>RB</td>\n",
       "      <td>187.811559</td>\n",
       "      <td>24.7267</td>\n",
       "      <td>0.216382</td>\n",
       "      <td>0.216382</td>\n",
       "      <td>33.399127</td>\n",
       "    </tr>\n",
       "    <tr>\n",
       "      <th>21</th>\n",
       "      <td>LeVeon Bell</td>\n",
       "      <td>NYJ</td>\n",
       "      <td>RB</td>\n",
       "      <td>179.544700</td>\n",
       "      <td>28.0600</td>\n",
       "      <td>-2.601133</td>\n",
       "      <td>-2.601133</td>\n",
       "      <td>25.132268</td>\n",
       "    </tr>\n",
       "    <tr>\n",
       "      <th>23</th>\n",
       "      <td>David Johnson</td>\n",
       "      <td>HOU</td>\n",
       "      <td>RB</td>\n",
       "      <td>175.591441</td>\n",
       "      <td>35.5867</td>\n",
       "      <td>-4.312511</td>\n",
       "      <td>-4.312511</td>\n",
       "      <td>21.179009</td>\n",
       "    </tr>\n",
       "    <tr>\n",
       "      <th>26</th>\n",
       "      <td>James Conner</td>\n",
       "      <td>PIT</td>\n",
       "      <td>RB</td>\n",
       "      <td>172.848596</td>\n",
       "      <td>23.4300</td>\n",
       "      <td>-12.894099</td>\n",
       "      <td>-12.894099</td>\n",
       "      <td>18.436164</td>\n",
       "    </tr>\n",
       "    <tr>\n",
       "      <th>27</th>\n",
       "      <td>Melvin Gordon</td>\n",
       "      <td>DEN</td>\n",
       "      <td>RB</td>\n",
       "      <td>170.150101</td>\n",
       "      <td>37.7567</td>\n",
       "      <td>-5.737250</td>\n",
       "      <td>-5.737250</td>\n",
       "      <td>15.737669</td>\n",
       "    </tr>\n",
       "    <tr>\n",
       "      <th>32</th>\n",
       "      <td>Devin Singletary</td>\n",
       "      <td>BUF</td>\n",
       "      <td>RB</td>\n",
       "      <td>162.521033</td>\n",
       "      <td>61.9367</td>\n",
       "      <td>-0.071235</td>\n",
       "      <td>-0.071235</td>\n",
       "      <td>5.886844</td>\n",
       "    </tr>\n",
       "    <tr>\n",
       "      <th>41</th>\n",
       "      <td>A.J. Brown</td>\n",
       "      <td>TEN</td>\n",
       "      <td>WR</td>\n",
       "      <td>161.794163</td>\n",
       "      <td>42.6000</td>\n",
       "      <td>0.001488</td>\n",
       "      <td>0.001488</td>\n",
       "      <td>4.684535</td>\n",
       "    </tr>\n",
       "    <tr>\n",
       "      <th>52</th>\n",
       "      <td>Mark Andrews</td>\n",
       "      <td>BAL</td>\n",
       "      <td>TE</td>\n",
       "      <td>130.986158</td>\n",
       "      <td>71.2367</td>\n",
       "      <td>0.004620</td>\n",
       "      <td>0.004620</td>\n",
       "      <td>4.206192</td>\n",
       "    </tr>\n",
       "    <tr>\n",
       "      <th>34</th>\n",
       "      <td>David Montgomery</td>\n",
       "      <td>CHI</td>\n",
       "      <td>RB</td>\n",
       "      <td>157.738674</td>\n",
       "      <td>44.5733</td>\n",
       "      <td>-0.256746</td>\n",
       "      <td>-0.256746</td>\n",
       "      <td>2.996944</td>\n",
       "    </tr>\n",
       "    <tr>\n",
       "      <th>42</th>\n",
       "      <td>Odell Beckham</td>\n",
       "      <td>CLE</td>\n",
       "      <td>WR</td>\n",
       "      <td>160.587236</td>\n",
       "      <td>26.2800</td>\n",
       "      <td>-0.002329</td>\n",
       "      <td>-0.002329</td>\n",
       "      <td>2.827953</td>\n",
       "    </tr>\n",
       "  </tbody>\n",
       "</table>\n",
       "</div>"
      ],
      "text/plain": [
       "              player team position      points      adp   oc_raw_0   oc_adj_0  \\\n",
       "17       Todd Gurley  ATL       RB  187.811559  24.7267   0.216382   0.216382   \n",
       "21       LeVeon Bell  NYJ       RB  179.544700  28.0600  -2.601133  -2.601133   \n",
       "23     David Johnson  HOU       RB  175.591441  35.5867  -4.312511  -4.312511   \n",
       "26      James Conner  PIT       RB  172.848596  23.4300 -12.894099 -12.894099   \n",
       "27     Melvin Gordon  DEN       RB  170.150101  37.7567  -5.737250  -5.737250   \n",
       "32  Devin Singletary  BUF       RB  162.521033  61.9367  -0.071235  -0.071235   \n",
       "41        A.J. Brown  TEN       WR  161.794163  42.6000   0.001488   0.001488   \n",
       "52      Mark Andrews  BAL       TE  130.986158  71.2367   0.004620   0.004620   \n",
       "34  David Montgomery  CHI       RB  157.738674  44.5733  -0.256746  -0.256746   \n",
       "42     Odell Beckham  CLE       WR  160.587236  26.2800  -0.002329  -0.002329   \n",
       "\n",
       "     oc_adj_1  \n",
       "17  33.399127  \n",
       "21  25.132268  \n",
       "23  21.179009  \n",
       "26  18.436164  \n",
       "27  15.737669  \n",
       "32   5.886844  \n",
       "41   4.684535  \n",
       "52   4.206192  \n",
       "34   2.996944  \n",
       "42   2.827953  "
      ]
     },
     "execution_count": 27,
     "metadata": {},
     "output_type": "execute_result"
    }
   ],
   "source": [
    "oc = gm.tell_me_what_to_do(projections,probabilities,d)\n",
    "cols = ['player','team','position','points','adp','oc_raw_0','oc_adj_0','oc_adj_1']\n",
    "print('Roster Needs')\n",
    "print(d.empty_positions)\n",
    "oc[cols].sort_values('oc_adj_1',ascending=False).head(10)"
   ]
  },
  {
   "cell_type": "code",
   "execution_count": 29,
   "metadata": {},
   "outputs": [
    {
     "data": {
      "text/plain": [
       "True"
      ]
     },
     "execution_count": 29,
     "metadata": {},
     "output_type": "execute_result"
    }
   ],
   "source": [
    "d.need_flex"
   ]
  },
  {
   "cell_type": "markdown",
   "metadata": {},
   "source": [
    "# Remove players you don't want\n",
    "\n",
    "Leonard Fournette was just released from the Jaguars - so we know his projection data doesn't represent his current prospects. \n",
    "\n",
    "We can add him to the blacklist so that he doesn't pop up as a recommendation."
   ]
  },
  {
   "cell_type": "code",
   "execution_count": 18,
   "metadata": {},
   "outputs": [
    {
     "name": "stdout",
     "output_type": "stream",
     "text": [
      "Blacklisting these players:\n",
      "               player team position\n",
      "19  Leonard Fournette  JAC       RB\n"
     ]
    }
   ],
   "source": [
    "projections = gm.dl.blacklist_player('Leonard Fournette','JAC',projections)"
   ]
  },
  {
   "cell_type": "markdown",
   "metadata": {},
   "source": [
    "You can also remove him from the blacklist if you change your mind, or added by mistake or whatever. Just use the same syntax, but its ```unblacklist_player()``` instead of ```blacklist_player()```. Creative I know..."
   ]
  },
  {
   "cell_type": "code",
   "execution_count": null,
   "metadata": {},
   "outputs": [],
   "source": [
    "projections = gm.dl.unblacklist_player('Leonard Fournette','JAC',projections)"
   ]
  },
  {
   "cell_type": "markdown",
   "metadata": {},
   "source": [
    "Feel free to explore the package and classes while you wait for your turn to return"
   ]
  },
  {
   "cell_type": "code",
   "execution_count": 30,
   "metadata": {},
   "outputs": [
    {
     "data": {
      "text/plain": [
       "30"
      ]
     },
     "execution_count": 30,
     "metadata": {},
     "output_type": "execute_result"
    }
   ],
   "source": [
    "d.current_pick"
   ]
  },
  {
   "cell_type": "code",
   "execution_count": 33,
   "metadata": {},
   "outputs": [],
   "source": [
    "np1, np2 = gm.dl.next_picks(d.pick_order,d.myteam,d.current_pick)"
   ]
  },
  {
   "cell_type": "code",
   "execution_count": 36,
   "metadata": {},
   "outputs": [
    {
     "data": {
      "text/plain": [
       "30"
      ]
     },
     "execution_count": 36,
     "metadata": {},
     "output_type": "execute_result"
    }
   ],
   "source": [
    "len(d.pickids)"
   ]
  },
  {
   "cell_type": "code",
   "execution_count": null,
   "metadata": {},
   "outputs": [],
   "source": []
  }
 ],
 "metadata": {
  "kernelspec": {
   "display_name": "Python 3",
   "language": "python",
   "name": "python3"
  },
  "language_info": {
   "codemirror_mode": {
    "name": "ipython",
    "version": 3
   },
   "file_extension": ".py",
   "mimetype": "text/x-python",
   "name": "python",
   "nbconvert_exporter": "python",
   "pygments_lexer": "ipython3",
   "version": "3.8.5"
  }
 },
 "nbformat": 4,
 "nbformat_minor": 4
}
