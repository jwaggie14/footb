{
 "cells": [
  {
   "cell_type": "markdown",
   "metadata": {},
   "source": [
    "# Start Up"
   ]
  },
  {
   "cell_type": "markdown",
   "metadata": {},
   "source": [
    "Run the cells below. They will open a browser window through selenium. (check your open windows if you don't notice it. It will be a firefox page with an orange url bar.)\n",
    "\n",
    "Log into your ESPN account and navigate to the draft.\n",
    "\n",
    "Make sure to keep everything in a single tab. Do not open links as new windows, do not open links as new tabs. This should be the default behavior if you just click on things normally (but no promises - this is hacked together at best...)"
   ]
  },
  {
   "cell_type": "markdown",
   "metadata": {},
   "source": [
    "### Updating the probabilities\n",
    "\n",
    "The default score/pick probability info is for 10 team, standard (non-ppr) scoring.\n",
    "\n",
    "You can update the probabilities with different parameters ```grandmaster.create_prob_pickle(teams, outputname, mapping_path, scoring, outputpath)``` where teams is the number of teams in your league, and scoring is one of these four entries:\n",
    " - 'standard'\n",
    " - 'ppr'\n",
    " - 'half-ppr'\n",
    " - '2qb\n",
    "\n",
    "The other parameters deal with file mappings.\n",
    " \n",
    "Follow this link to see the source data [Fantasy Football Calculator](https://fantasyfootballcalculator.com/scenario-calculator)"
   ]
  },
  {
   "cell_type": "markdown",
   "metadata": {},
   "source": [
    "### Updating/Changing the Projections\n",
    "\n",
    "You can call ```grandmaster.process_projections(projection_path, idmap_path, output_path)```\n",
    "to update or change the projections. ```projection_path``` is the direction to the projection files. I use [fantasyfootballanalytics.net](https://www.fantasyfootballanalytics.net)\n",
    "\n",
    "You can use any source of projections as long as you can map them to the ESPN IDs. \n",
    "\n",
    "Required columns:\n",
    " - 'position'\n",
    " - 'player'\n",
    " - 'points'\n",
    " - 'adp'\n",
    " \n",
    "This needs more development, specifically:\n",
    " - mapping tables to cross-reference all the different sources to some sort of master ID\n",
    " - It would also be useful to map the player IDs to the different providers.\n",
    " - making the column naming more flexible \n",
    " \n",
    " \n",
    " # Current Use.\n",
    " I've put together a rough GUI using widgets. Follow the instructions [here](https://ipywidgets.readthedocs.io/en/latest/user_install.html) to install and enable them.\n",
    " \n",
    " Alternatively, there is another notebook in the git repo labeled No GUI or something that just calls the functions directly."
   ]
  },
  {
   "cell_type": "code",
   "execution_count": null,
   "metadata": {},
   "outputs": [],
   "source": [
    "%load_ext autoreload\n",
    "%autoreload 2"
   ]
  },
  {
   "cell_type": "code",
   "execution_count": null,
   "metadata": {},
   "outputs": [],
   "source": [
    "from ipywidgets import interact, interactive, fixed, interact_manual\n",
    "import ipywidgets as widgets\n",
    "import pandas as pd \n",
    "import numpy as np\n",
    "import grandmaster as gm"
   ]
  },
  {
   "cell_type": "code",
   "execution_count": null,
   "metadata": {},
   "outputs": [],
   "source": [
    "process_proj = interactive(gm.process_projections,\n",
    "                           {'manual':True},\n",
    "                           projection_path='https://raw.githubusercontent.com/jwaggie14/footb/master/ffa_customrankings2020-0.csv',\n",
    "                           idmap_path='https://raw.githubusercontent.com/jwaggie14/footb/master/espn_ffa_map.csv',\n",
    "                           output_path='players_NEW.pkl'\n",
    "                          )\n",
    "\n",
    "update_prob = interactive(gm.create_prob_pickle,\n",
    "                          {'manual':True},\n",
    "                          teams=[8,10,12,14],\n",
    "                          scoring=['standard','ppr','half-ppr','2qb'],\n",
    "                          outputname='pick_prob_NEW.pkl',\n",
    "                          mapping_path='https://raw.githubusercontent.com/jwaggie14/footb/master/probmap.csv'\n",
    "                         )     "
   ]
  },
  {
   "cell_type": "markdown",
   "metadata": {},
   "source": [
    "# Update Projections\n",
    "fill in the fields and click \"Run Interact\" to process projections.\n",
    "\n",
    "The projection_path defaults to the projections that I've stored in the github repository. These are the projections for standard, non-ppr scoring.\n",
    "\n",
    "You can go to [fantasyfootballanalytics.net](https://www.fantasyfootballanalytics.net) to create projections that match your league's settings. Download the custom rankings. Update the projection_path to point to your custom rankings file."
   ]
  },
  {
   "cell_type": "code",
   "execution_count": null,
   "metadata": {},
   "outputs": [],
   "source": [
    "display(process_proj)"
   ]
  },
  {
   "cell_type": "markdown",
   "metadata": {},
   "source": [
    "# Update Pick Probabilities\n",
    "select the closest Team number and Scoring settings, fill in the mapping path and outputname,\n",
    "then click \"Run Interact\". Scraping this info will take a minute. \n",
    "\n",
    "Only scrape the picks once a day. The probabilities don't change very much, so there is no need to swamp their website with requests."
   ]
  },
  {
   "cell_type": "code",
   "execution_count": null,
   "metadata": {},
   "outputs": [],
   "source": [
    "display(update_prob)"
   ]
  },
  {
   "cell_type": "code",
   "execution_count": null,
   "metadata": {},
   "outputs": [],
   "source": [
    "def start_draft(team_name,proj_path,prob_path):\n",
    "    global projections\n",
    "    global probabilities\n",
    "    global d\n",
    "    print('1 of 4: reading projections')\n",
    "    projections = pd.read_pickle(proj_path)\n",
    "    print('2 of 4: reading pick probabilities')\n",
    "    probabilities = pd.read_pickle(prob_path)\n",
    "    print('3 of 4: launching driver - this will take a minute')\n",
    "    d = gm.ds.draft_monitor(team_name)\n",
    "    print('4 of 4: done')"
   ]
  },
  {
   "cell_type": "code",
   "execution_count": null,
   "metadata": {},
   "outputs": [],
   "source": [
    "x = interactive(start_draft,\n",
    "                {'manual':True},\n",
    "                team_name='Team LASTNAME',\n",
    "                proj_path=fixed(process_proj.children[2].value),\n",
    "                prob_path=fixed(update_prob.children[2].value)\n",
    "               )"
   ]
  },
  {
   "cell_type": "markdown",
   "metadata": {},
   "source": [
    "# Launch your draft\n",
    "Fill in your espn team name and press Run Interact again. This will bring up a new firefox window that you will use for your actual draft.\n",
    "\n",
    "Use this new window to log into your espn account and navigate to your draft room."
   ]
  },
  {
   "cell_type": "code",
   "execution_count": null,
   "metadata": {},
   "outputs": [],
   "source": [
    "display(x)"
   ]
  },
  {
   "cell_type": "markdown",
   "metadata": {},
   "source": [
    "If you made a typo in your team name, you will get a \"'Team Whatever' is not in list\" error.\n",
    "Change your team name with ```d.team_name = \"correct team name here\"```"
   ]
  },
  {
   "cell_type": "code",
   "execution_count": null,
   "metadata": {},
   "outputs": [],
   "source": [
    "d.configure_draft()"
   ]
  },
  {
   "cell_type": "markdown",
   "metadata": {},
   "source": [
    "Run ```d.myteam``` to make sure the number matches your first round pick.\n",
    "If it's wrong, change it with ```d.myteam = YOURPICK```\n",
    "\n",
    "There are also some other info that you can dig into if you're interested like rosters."
   ]
  },
  {
   "cell_type": "code",
   "execution_count": null,
   "metadata": {},
   "outputs": [],
   "source": [
    "d.myteam"
   ]
  },
  {
   "cell_type": "code",
   "execution_count": null,
   "metadata": {},
   "outputs": [],
   "source": [
    "d.rosters[d.myteam]"
   ]
  },
  {
   "cell_type": "markdown",
   "metadata": {},
   "source": [
    "If you just want recommendations, run ```gm.tell_me_what_to_do()``` on your every turn."
   ]
  },
  {
   "cell_type": "code",
   "execution_count": null,
   "metadata": {
    "scrolled": false
   },
   "outputs": [],
   "source": [
    "oc = gm.tell_me_what_to_do(projections,probabilities,d)\n",
    "cols = ['player','team','position','points','adp','oc_raw_0','oc_adj_0','oc_adj_1']\n",
    "print('Roster Needs')\n",
    "print(d.empty_positions)\n",
    "oc[cols].sort_values('oc_adj_1',ascending=False).head(10)"
   ]
  },
  {
   "cell_type": "markdown",
   "metadata": {},
   "source": [
    "# Remove players you don't want\n",
    "\n",
    "Leonard Fournette was just released from the Jaguars - so we know his projection data doesn't represent his current prospects. \n",
    "\n",
    "We can add him to the blacklist so that he doesn't pop up as a recommendation."
   ]
  },
  {
   "cell_type": "code",
   "execution_count": null,
   "metadata": {},
   "outputs": [],
   "source": [
    "projections = gm.dl.blacklist_player('Leonard Fournette','JAC',projections)"
   ]
  },
  {
   "cell_type": "markdown",
   "metadata": {},
   "source": [
    "You can also remove him from the blacklist if you change your mind, or added by mistake or whatever. Just use the same syntax, but its ```unblacklist_player()``` instead of ```blacklist_player()```. Creative I know..."
   ]
  },
  {
   "cell_type": "code",
   "execution_count": null,
   "metadata": {},
   "outputs": [],
   "source": [
    "projections = gm.dl.unblacklist_player('Leonard Fournette','JAC',projections)"
   ]
  },
  {
   "cell_type": "markdown",
   "metadata": {},
   "source": [
    "Feel free to explore the package and classes while you wait for your turn to return"
   ]
  },
  {
   "cell_type": "code",
   "execution_count": null,
   "metadata": {},
   "outputs": [],
   "source": []
  }
 ],
 "metadata": {
  "kernelspec": {
   "display_name": "Python 3",
   "language": "python",
   "name": "python3"
  },
  "language_info": {
   "codemirror_mode": {
    "name": "ipython",
    "version": 3
   },
   "file_extension": ".py",
   "mimetype": "text/x-python",
   "name": "python",
   "nbconvert_exporter": "python",
   "pygments_lexer": "ipython3",
   "version": "3.8.5"
  }
 },
 "nbformat": 4,
 "nbformat_minor": 4
}
