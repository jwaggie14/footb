{
 "cells": [
  {
   "cell_type": "markdown",
   "metadata": {},
   "source": [
    "# Start Up"
   ]
  },
  {
   "cell_type": "markdown",
   "metadata": {},
   "source": [
    "Run the cells below. They will open a browser window through selenium. (check your open windows if you don't notice it. It will be a firefox page with an orange url bar.)\n",
    "\n",
    "Log into your ESPN account and navigate to the draft.\n",
    "\n",
    "Make sure to keep everything in a single tab. Do not open links as new windows, do not open links as new tabs. This should be the default behavior if you just click on things normally (but no promises - this is hacked together at best...)"
   ]
  },
  {
   "cell_type": "markdown",
   "metadata": {},
   "source": [
    "### Updating the probabilities\n",
    "\n",
    "The default score/pick probability info is for 10 team, standard (non-ppr) scoring.\n",
    "\n",
    "You can update the probabilities with different parameters ```grandmaster.create_prob_pickle(teams, outputname, mapping_path, scoring, outputpath)``` where teams is the number of teams in your league, and scoring is one of these four entries:\n",
    " - 'standard'\n",
    " - 'ppr'\n",
    " - 'half-ppr'\n",
    " - '2qb\n",
    "\n",
    "The other parameters deal with file mappings.\n",
    " \n",
    "Follow this link to see the source data [Fantasy Football Calculator](https://fantasyfootballcalculator.com/scenario-calculator)"
   ]
  },
  {
   "cell_type": "markdown",
   "metadata": {},
   "source": [
    "### Updating/Changing the Projections\n",
    "\n",
    "You can call ```grandmaster.process_projections(projection_path, idmap_path, output_path)```\n",
    "to update or change the projections. ```projection_path``` is the direction to the projection files. I use [fantasyfootballanalytics.net](https://www.fantasyfootballanalytics.net)\n",
    "\n",
    "You can use any source of projections as long as you can map them to the ESPN IDs. \n",
    "\n",
    "Required columns:\n",
    " - 'position'\n",
    " - 'player'\n",
    " - 'points'\n",
    " - 'adp'\n",
    " \n",
    "This needs more development, specifically:\n",
    " - mapping tables to cross-reference all the different sources to some sort of master ID\n",
    " - It would also be useful to map the player IDs to the different providers.\n",
    " - making the column naming more flexible \n",
    " \n",
    " \n",
    " # Current Use.\n",
    " I've put together a rough GUI using widgets. Follow the instructions [here](https://ipywidgets.readthedocs.io/en/latest/user_install.html) to install and enable them.\n",
    " \n",
    " Alternatively, there is another notebook in the git repo labeled No GUI or something that just calls the functions directly."
   ]
  },
  {
   "cell_type": "code",
   "execution_count": 1,
   "metadata": {},
   "outputs": [],
   "source": [
    "%load_ext autoreload\n",
    "%autoreload 2"
   ]
  },
  {
   "cell_type": "code",
   "execution_count": 2,
   "metadata": {},
   "outputs": [],
   "source": [
    "from ipywidgets import interact, interactive, fixed, interact_manual\n",
    "import ipywidgets as widgets\n",
    "import pandas as pd \n",
    "import numpy as np\n",
    "import grandmaster as gm"
   ]
  },
  {
   "cell_type": "code",
   "execution_count": 5,
   "metadata": {},
   "outputs": [],
   "source": [
    "process_proj = interactive(gm.process_projections,\n",
    "                           {'manual':True},\n",
    "                           projection_path='espn_projections.csv',\n",
    "#                            projection_path='https://raw.githubusercontent.com/jwaggie14/footb/master/ffa_customrankings2020-0.csv',\n",
    "#                            idmap_path='https://raw.githubusercontent.com/jwaggie14/footb/master/espn_ffa_map.csv',\n",
    "                           idmap_path='espn_ffa_map.csv',\n",
    "                           output_path='players_LIVE.pkl'\n",
    "                          )\n",
    "\n",
    "update_prob = interactive(gm.create_prob_pickle,\n",
    "                          {'manual':True},\n",
    "                          teams=[8,10,12,14],\n",
    "                          scoring=['standard','ppr','half-ppr','2qb'],\n",
    "                          outputname='pick_prob_LIVE.pkl',\n",
    "                          mapping_path='https://raw.githubusercontent.com/jwaggie14/footb/master/probmap.csv'\n",
    "                         )     "
   ]
  },
  {
   "cell_type": "markdown",
   "metadata": {},
   "source": [
    "# Update Projections\n",
    "fill in the fields and click \"Run Interact\" to process projections.\n",
    "\n",
    "The projection_path defaults to the projections that I've stored in the github repository. These are the projections for standard, non-ppr scoring.\n",
    "\n",
    "You can go to [fantasyfootballanalytics.net](https://www.fantasyfootballanalytics.net) to create projections that match your league's settings. Download the custom rankings. Update the projection_path to point to your custom rankings file."
   ]
  },
  {
   "cell_type": "code",
   "execution_count": 6,
   "metadata": {},
   "outputs": [
    {
     "data": {
      "application/vnd.jupyter.widget-view+json": {
       "model_id": "981a94bbf609452db02bf8649892b904",
       "version_major": 2,
       "version_minor": 0
      },
      "text/plain": [
       "interactive(children=(Text(value='espn_projections.csv', description='projection_path'), Text(value='espn_ffa_…"
      ]
     },
     "metadata": {},
     "output_type": "display_data"
    }
   ],
   "source": [
    "display(process_proj)"
   ]
  },
  {
   "cell_type": "markdown",
   "metadata": {},
   "source": [
    "# Update Pick Probabilities\n",
    "select the closest Team number and Scoring settings, fill in the mapping path and outputname,\n",
    "then click \"Run Interact\". Scraping this info will take a minute. \n",
    "\n",
    "Only scrape the picks once a day. The probabilities don't change very much, so there is no need to swamp their website with requests."
   ]
  },
  {
   "cell_type": "code",
   "execution_count": 7,
   "metadata": {
    "scrolled": true
   },
   "outputs": [
    {
     "data": {
      "application/vnd.jupyter.widget-view+json": {
       "model_id": "bca2805cca0246289a17acf17d04e957",
       "version_major": 2,
       "version_minor": 0
      },
      "text/plain": [
       "interactive(children=(Dropdown(description='teams', options=(8, 10, 12, 14), value=8), Dropdown(description='s…"
      ]
     },
     "metadata": {},
     "output_type": "display_data"
    }
   ],
   "source": [
    "display(update_prob)"
   ]
  },
  {
   "cell_type": "code",
   "execution_count": 8,
   "metadata": {},
   "outputs": [],
   "source": [
    "def start_draft(team_name,proj_path,prob_path):\n",
    "    global projections\n",
    "    global probabilities\n",
    "    global d\n",
    "    print('1 of 4: reading projections')\n",
    "    projections = pd.read_pickle(proj_path).dropna(subset=['espn_names'])\n",
    "    print('2 of 4: reading pick probabilities')\n",
    "    probabilities = pd.read_pickle(prob_path)\n",
    "    print('3 of 4: launching driver - this will take a minute')\n",
    "    d = gm.ds.draft_monitor(team_name)\n",
    "    print('4 of 4: done')"
   ]
  },
  {
   "cell_type": "code",
   "execution_count": 9,
   "metadata": {},
   "outputs": [],
   "source": [
    "x = interactive(start_draft,\n",
    "                {'manual':True},\n",
    "                team_name='Team LASTNAME',\n",
    "                proj_path=fixed(process_proj.children[2].value),\n",
    "                prob_path=fixed(update_prob.children[2].value)\n",
    "               )"
   ]
  },
  {
   "cell_type": "markdown",
   "metadata": {},
   "source": [
    "# Launch your draft\n",
    "Fill in your espn team name and press Run Interact again. This will bring up a new firefox window that you will use for your actual draft.\n",
    "\n",
    "Use this new window to log into your espn account and navigate to your draft room."
   ]
  },
  {
   "cell_type": "code",
   "execution_count": 10,
   "metadata": {},
   "outputs": [
    {
     "data": {
      "application/vnd.jupyter.widget-view+json": {
       "model_id": "6a4906f1b8fe479e8e734e33b42739b1",
       "version_major": 2,
       "version_minor": 0
      },
      "text/plain": [
       "interactive(children=(Text(value='Team LASTNAME', description='team_name'), Button(description='Run Interact',…"
      ]
     },
     "metadata": {},
     "output_type": "display_data"
    }
   ],
   "source": [
    "display(x)"
   ]
  },
  {
   "cell_type": "markdown",
   "metadata": {},
   "source": [
    "If you made a typo in your team name, you will get a \"'Team Whatever' is not in list\" error.\n",
    "Change your team name with ```d.team_name = \"correct team name here\"```"
   ]
  },
  {
   "cell_type": "code",
   "execution_count": 39,
   "metadata": {},
   "outputs": [],
   "source": [
    "d.configure_draft()"
   ]
  },
  {
   "cell_type": "code",
   "execution_count": 41,
   "metadata": {},
   "outputs": [
    {
     "data": {
      "text/plain": [
       "3"
      ]
     },
     "execution_count": 41,
     "metadata": {},
     "output_type": "execute_result"
    }
   ],
   "source": [
    "d.mypick"
   ]
  },
  {
   "cell_type": "markdown",
   "metadata": {},
   "source": [
    "If you just want recommendations, run ```gm.tell_me_what_to_do()``` on your every turn."
   ]
  },
  {
   "cell_type": "code",
   "execution_count": 44,
   "metadata": {},
   "outputs": [],
   "source": [
    "projections.index.name = None"
   ]
  },
  {
   "cell_type": "code",
   "execution_count": 46,
   "metadata": {},
   "outputs": [
    {
     "data": {
      "text/plain": [
       "[(1, 1, 4047365, 'Josh Jacobs')]"
      ]
     },
     "execution_count": 46,
     "metadata": {},
     "output_type": "execute_result"
    }
   ],
   "source": [
    "d.pickids"
   ]
  },
  {
   "cell_type": "code",
   "execution_count": 56,
   "metadata": {},
   "outputs": [
    {
     "data": {
      "text/plain": [
       "2"
      ]
     },
     "execution_count": 56,
     "metadata": {},
     "output_type": "execute_result"
    }
   ],
   "source": [
    "d.myteam"
   ]
  },
  {
   "cell_type": "code",
   "execution_count": 55,
   "metadata": {},
   "outputs": [
    {
     "data": {
      "text/html": [
       "<div>\n",
       "<style scoped>\n",
       "    .dataframe tbody tr th:only-of-type {\n",
       "        vertical-align: middle;\n",
       "    }\n",
       "\n",
       "    .dataframe tbody tr th {\n",
       "        vertical-align: top;\n",
       "    }\n",
       "\n",
       "    .dataframe thead th {\n",
       "        text-align: right;\n",
       "    }\n",
       "</style>\n",
       "<table border=\"1\" class=\"dataframe\">\n",
       "  <thead>\n",
       "    <tr style=\"text-align: right;\">\n",
       "      <th></th>\n",
       "      <th>position</th>\n",
       "      <th>player</th>\n",
       "    </tr>\n",
       "  </thead>\n",
       "  <tbody>\n",
       "    <tr>\n",
       "      <th>0</th>\n",
       "      <td>QB</td>\n",
       "      <td>NaN</td>\n",
       "    </tr>\n",
       "    <tr>\n",
       "      <th>1</th>\n",
       "      <td>RB</td>\n",
       "      <td>NaN</td>\n",
       "    </tr>\n",
       "    <tr>\n",
       "      <th>2</th>\n",
       "      <td>RB</td>\n",
       "      <td>NaN</td>\n",
       "    </tr>\n",
       "    <tr>\n",
       "      <th>3</th>\n",
       "      <td>WR</td>\n",
       "      <td>NaN</td>\n",
       "    </tr>\n",
       "    <tr>\n",
       "      <th>4</th>\n",
       "      <td>WR</td>\n",
       "      <td>NaN</td>\n",
       "    </tr>\n",
       "    <tr>\n",
       "      <th>5</th>\n",
       "      <td>TE</td>\n",
       "      <td>NaN</td>\n",
       "    </tr>\n",
       "    <tr>\n",
       "      <th>6</th>\n",
       "      <td>FLEX</td>\n",
       "      <td>NaN</td>\n",
       "    </tr>\n",
       "    <tr>\n",
       "      <th>7</th>\n",
       "      <td>D/ST</td>\n",
       "      <td>NaN</td>\n",
       "    </tr>\n",
       "    <tr>\n",
       "      <th>8</th>\n",
       "      <td>K</td>\n",
       "      <td>NaN</td>\n",
       "    </tr>\n",
       "    <tr>\n",
       "      <th>9</th>\n",
       "      <td>BE</td>\n",
       "      <td>NaN</td>\n",
       "    </tr>\n",
       "    <tr>\n",
       "      <th>10</th>\n",
       "      <td>BE</td>\n",
       "      <td>NaN</td>\n",
       "    </tr>\n",
       "    <tr>\n",
       "      <th>11</th>\n",
       "      <td>BE</td>\n",
       "      <td>NaN</td>\n",
       "    </tr>\n",
       "    <tr>\n",
       "      <th>12</th>\n",
       "      <td>BE</td>\n",
       "      <td>NaN</td>\n",
       "    </tr>\n",
       "    <tr>\n",
       "      <th>13</th>\n",
       "      <td>BE</td>\n",
       "      <td>NaN</td>\n",
       "    </tr>\n",
       "    <tr>\n",
       "      <th>14</th>\n",
       "      <td>BE</td>\n",
       "      <td>NaN</td>\n",
       "    </tr>\n",
       "    <tr>\n",
       "      <th>15</th>\n",
       "      <td>BE</td>\n",
       "      <td>NaN</td>\n",
       "    </tr>\n",
       "  </tbody>\n",
       "</table>\n",
       "</div>"
      ],
      "text/plain": [
       "   position  player\n",
       "0        QB     NaN\n",
       "1        RB     NaN\n",
       "2        RB     NaN\n",
       "3        WR     NaN\n",
       "4        WR     NaN\n",
       "5        TE     NaN\n",
       "6      FLEX     NaN\n",
       "7      D/ST     NaN\n",
       "8         K     NaN\n",
       "9        BE     NaN\n",
       "10       BE     NaN\n",
       "11       BE     NaN\n",
       "12       BE     NaN\n",
       "13       BE     NaN\n",
       "14       BE     NaN\n",
       "15       BE     NaN"
      ]
     },
     "execution_count": 55,
     "metadata": {},
     "output_type": "execute_result"
    }
   ],
   "source": [
    "d.rosters[]"
   ]
  },
  {
   "cell_type": "code",
   "execution_count": 59,
   "metadata": {},
   "outputs": [
    {
     "data": {
      "text/plain": [
       "{9: 'MEXICAN CHUBB',\n",
       " 10: 'TEAM HESS',\n",
       " 2: 'TWO MAHOMIES',\n",
       " 8: 'TEAM PUP N SUDS',\n",
       " 1: 'TEAM DOWNSIDE AGAIN',\n",
       " 6: 'ITTY BITTY TD COMMITEE',\n",
       " 4: 'MAHOMIE AMERICANS',\n",
       " 5: \"DON'T FUCK WITH MAHOMIES\",\n",
       " 3: 'MAHOMIES 4 REAL',\n",
       " 7: 'ME AND MY MAHOMIES'}"
      ]
     },
     "execution_count": 59,
     "metadata": {},
     "output_type": "execute_result"
    }
   ],
   "source": [
    "d.team_map"
   ]
  },
  {
   "cell_type": "code",
   "execution_count": 83,
   "metadata": {},
   "outputs": [],
   "source": [
    "d.update_rosters()"
   ]
  },
  {
   "cell_type": "code",
   "execution_count": 85,
   "metadata": {},
   "outputs": [
    {
     "data": {
      "text/plain": [
       "{9:    position          player\n",
       " 0        QB        C. Wentz\n",
       " 1        RB         D. Cook\n",
       " 2        RB      M. Sanders\n",
       " 3        WR         C. Kupp\n",
       " 4        WR  O. Beckham Jr.\n",
       " 5        TE       E. Engram\n",
       " 6      FLEX       A. Ekeler\n",
       " 7      D/ST   Patriots D/ST\n",
       " 8         K     Z. Gonzalez\n",
       " 9        BE    D. Chark Jr.\n",
       " 10       BE   D. Montgomery\n",
       " 11       BE       D. Samuel\n",
       " 12       BE        T. Cohen\n",
       " 13       BE      T. Coleman\n",
       " 14       BE        J. Brown\n",
       " 15       BE        N. Harry,\n",
       " 10:    position              player\n",
       " 0        QB           K. Murray\n",
       " 1        RB  C. Edwards-Helaire\n",
       " 2        RB            A. Jones\n",
       " 3        WR          D. Hopkins\n",
       " 4        WR      A. Robinson II\n",
       " 5        TE           T. Higbee\n",
       " 6      FLEX   J. Smith-Schuster\n",
       " 7      D/ST          Bears D/ST\n",
       " 8         K          C. Boswell\n",
       " 9        BE           J. Landry\n",
       " 10       BE             T. Boyd\n",
       " 11       BE          D. Johnson\n",
       " 12       BE            J. White\n",
       " 13       BE         R. Anderson\n",
       " 14       BE          D. Jackson\n",
       " 15       BE            H. Hurst,\n",
       " 2:    position         player\n",
       " 0        QB     L. Jackson\n",
       " 1        RB       K. Drake\n",
       " 2        RB      M. Gordon\n",
       " 3        WR        T. Hill\n",
       " 4        WR      D. Parker\n",
       " 5        TE  R. Gronkowski\n",
       " 6      FLEX        L. Bell\n",
       " 7      D/ST     49ers D/ST\n",
       " 8         K      J. Tucker\n",
       " 9        BE   M. Ingram II\n",
       " 10       BE       M. Brown\n",
       " 11       BE      J. Howard\n",
       " 12       BE     E. Sanders\n",
       " 13       BE     A. Rodgers\n",
       " 14       BE     M. Hardman\n",
       " 15       BE      S. Michel,\n",
       " 8:    position         player\n",
       " 0        QB    D. Prescott\n",
       " 1        RB      J. Jacobs\n",
       " 2        RB      A. Kamara\n",
       " 3        WR      C. Godwin\n",
       " 4        WR       R. Woods\n",
       " 5        TE       H. Henry\n",
       " 6      FLEX     T. Lockett\n",
       " 7      D/ST     Colts D/ST\n",
       " 8         K        W. Lutz\n",
       " 9        BE  D. Singletary\n",
       " 10       BE     J. Edelman\n",
       " 11       BE     P. Lindsay\n",
       " 12       BE     D. Johnson\n",
       " 13       BE       J. Allen\n",
       " 14       BE        N. Fant\n",
       " 15       BE        D. Mims,\n",
       " 1:    position           player\n",
       " 0        QB        C. Newton\n",
       " 1        RB         J. Mixon\n",
       " 2        RB         N. Chubb\n",
       " 3        WR      K. Golladay\n",
       " 4        WR      T. McLaurin\n",
       " 5        TE        D. Waller\n",
       " 6      FLEX         C. Akers\n",
       " 7      D/ST  Buccaneers D/ST\n",
       " 8         K    S. Gostkowski\n",
       " 9        BE         A. Green\n",
       " 10       BE       J. Dobbins\n",
       " 11       BE         B. Cooks\n",
       " 12       BE        D. Harris\n",
       " 13       BE     H. Ruggs III\n",
       " 14       BE        A. Dillon\n",
       " 15       BE      M. Stafford,\n",
       " 6:    position       player\n",
       " 0        QB    R. Wilson\n",
       " 1        RB   E. Elliott\n",
       " 2        RB    J. Taylor\n",
       " 3        WR     J. Jones\n",
       " 4        WR    A. Cooper\n",
       " 5        TE      Z. Ertz\n",
       " 6      FLEX   R. Mostert\n",
       " 7      D/ST  Ravens D/ST\n",
       " 8         K     R. Gould\n",
       " 9        BE     S. Diggs\n",
       " 10       BE      Z. Moss\n",
       " 11       BE  P. Williams\n",
       " 12       BE   J. Crowder\n",
       " 13       BE     J. Jeudy\n",
       " 14       BE      J. Goff\n",
       " 15       BE    A. Hooper,\n",
       " 4:    position          player\n",
       " 0        QB         M. Ryan\n",
       " 1        RB    C. McCaffrey\n",
       " 2        RB       C. Carson\n",
       " 3        WR        M. Evans\n",
       " 4        WR      A. Thielen\n",
       " 5        TE      M. Andrews\n",
       " 6      FLEX        K. Allen\n",
       " 7      D/ST   Steelers D/ST\n",
       " 8         K  R. Blankenship\n",
       " 9        BE       A. Gibson\n",
       " 10       BE     W. Fuller V\n",
       " 11       BE         C. Kirk\n",
       " 12       BE       L. Murray\n",
       " 13       BE      J. Jackson\n",
       " 14       BE   L. Fitzgerald\n",
       " 15       BE      M. Gesicki,\n",
       " 5:    position         player\n",
       " 0        QB      D. Watson\n",
       " 1        RB     S. Barkley\n",
       " 2        RB       D. Henry\n",
       " 3        WR       A. Brown\n",
       " 4        WR      C. Ridley\n",
       " 5        TE      G. Kittle\n",
       " 6      FLEX      M. Gallup\n",
       " 7      D/ST  Chargers D/ST\n",
       " 8         K    G. Zuerlein\n",
       " 9        BE   L. Fournette\n",
       " 10       BE        C. Lamb\n",
       " 11       BE      M. Breida\n",
       " 12       BE       D. Brees\n",
       " 13       BE   T. Hockenson\n",
       " 14       BE      C. Samuel\n",
       " 15       BE       B. Scott,\n",
       " 3:    position        player\n",
       " 0        QB    P. Mahomes\n",
       " 1        RB    D. Johnson\n",
       " 2        RB     J. Conner\n",
       " 3        WR      D. Adams\n",
       " 4        WR     C. Sutton\n",
       " 5        TE       J. Cook\n",
       " 6      FLEX    D. Metcalf\n",
       " 7      D/ST    Bills D/ST\n",
       " 8         K     H. Butker\n",
       " 9        BE  M. Jones Jr.\n",
       " 10       BE   R. Jones II\n",
       " 11       BE       M. Mack\n",
       " 12       BE   A. Mattison\n",
       " 13       BE   M. Williams\n",
       " 14       BE   P. Campbell\n",
       " 15       BE     A. Miller,\n",
       " 7:    position            player\n",
       " 0        QB          T. Brady\n",
       " 1        RB      T. Gurley II\n",
       " 2        RB          D. Swift\n",
       " 3        WR         M. Thomas\n",
       " 4        WR          D. Moore\n",
       " 5        TE          T. Kelce\n",
       " 6      FLEX         T. Hilton\n",
       " 7      D/ST      Vikings D/ST\n",
       " 8         K         M. Prater\n",
       " 9        BE           K. Hunt\n",
       " 10       BE        K. Johnson\n",
       " 11       BE        S. Shepard\n",
       " 12       BE        D. Slayton\n",
       " 13       BE           G. Tate\n",
       " 14       BE  D. Henderson Jr.\n",
       " 15       BE       B. Perriman}"
      ]
     },
     "execution_count": 85,
     "metadata": {},
     "output_type": "execute_result"
    }
   ],
   "source": [
    "d.rosters"
   ]
  },
  {
   "cell_type": "code",
   "execution_count": 82,
   "metadata": {},
   "outputs": [
    {
     "ename": "ValueError",
     "evalue": "3 is not in list",
     "output_type": "error",
     "traceback": [
      "\u001b[1;31m---------------------------------------------------------------------------\u001b[0m",
      "\u001b[1;31mValueError\u001b[0m                                Traceback (most recent call last)",
      "\u001b[1;32m<ipython-input-82-f166fc90a018>\u001b[0m in \u001b[0;36m<module>\u001b[1;34m\u001b[0m\n\u001b[1;32m----> 1\u001b[1;33m \u001b[0moc\u001b[0m \u001b[1;33m=\u001b[0m \u001b[0mgm\u001b[0m\u001b[1;33m.\u001b[0m\u001b[0mtell_me_what_to_do\u001b[0m\u001b[1;33m(\u001b[0m\u001b[0mprojections\u001b[0m\u001b[1;33m,\u001b[0m\u001b[0mprobabilities\u001b[0m\u001b[1;33m,\u001b[0m\u001b[0md\u001b[0m\u001b[1;33m)\u001b[0m\u001b[1;33m\u001b[0m\u001b[1;33m\u001b[0m\u001b[0m\n\u001b[0m\u001b[0;32m      2\u001b[0m \u001b[0mcols\u001b[0m \u001b[1;33m=\u001b[0m \u001b[1;33m[\u001b[0m\u001b[1;34m'player'\u001b[0m\u001b[1;33m,\u001b[0m\u001b[1;34m'team'\u001b[0m\u001b[1;33m,\u001b[0m\u001b[1;34m'position'\u001b[0m\u001b[1;33m,\u001b[0m\u001b[1;34m'points'\u001b[0m\u001b[1;33m,\u001b[0m\u001b[1;34m'oc_raw_0'\u001b[0m\u001b[1;33m,\u001b[0m\u001b[1;34m'oc_adj_0'\u001b[0m\u001b[1;33m,\u001b[0m\u001b[1;34m'pb_0'\u001b[0m\u001b[1;33m,\u001b[0m\u001b[1;34m'oc_raw_1'\u001b[0m\u001b[1;33m,\u001b[0m\u001b[1;34m'oc_adj_1'\u001b[0m\u001b[1;33m,\u001b[0m\u001b[1;34m'pb_1'\u001b[0m\u001b[1;33m]\u001b[0m\u001b[1;33m\u001b[0m\u001b[1;33m\u001b[0m\u001b[0m\n\u001b[0;32m      3\u001b[0m \u001b[0mprint\u001b[0m\u001b[1;33m(\u001b[0m\u001b[1;34m'Roster Needs'\u001b[0m\u001b[1;33m)\u001b[0m\u001b[1;33m\u001b[0m\u001b[1;33m\u001b[0m\u001b[0m\n\u001b[0;32m      4\u001b[0m \u001b[0mprint\u001b[0m\u001b[1;33m(\u001b[0m\u001b[0md\u001b[0m\u001b[1;33m.\u001b[0m\u001b[0mempty_positions\u001b[0m\u001b[1;33m)\u001b[0m\u001b[1;33m\u001b[0m\u001b[1;33m\u001b[0m\u001b[0m\n\u001b[0;32m      5\u001b[0m \u001b[0moc\u001b[0m\u001b[1;33m[\u001b[0m\u001b[0mcols\u001b[0m\u001b[1;33m]\u001b[0m\u001b[1;33m.\u001b[0m\u001b[0msort_values\u001b[0m\u001b[1;33m(\u001b[0m\u001b[1;34m'oc_adj_1'\u001b[0m\u001b[1;33m,\u001b[0m\u001b[0mascending\u001b[0m\u001b[1;33m=\u001b[0m\u001b[1;32mFalse\u001b[0m\u001b[1;33m)\u001b[0m\u001b[1;33m.\u001b[0m\u001b[0mround\u001b[0m\u001b[1;33m(\u001b[0m\u001b[1;36m3\u001b[0m\u001b[1;33m)\u001b[0m\u001b[1;33m.\u001b[0m\u001b[0mhead\u001b[0m\u001b[1;33m(\u001b[0m\u001b[1;36m20\u001b[0m\u001b[1;33m)\u001b[0m\u001b[1;33m\u001b[0m\u001b[1;33m\u001b[0m\u001b[0m\n",
      "\u001b[1;32m~\\aaPython\\foot\\footb\\grandmaster\\__init__.py\u001b[0m in \u001b[0;36mtell_me_what_to_do\u001b[1;34m(players, prob, draft)\u001b[0m\n\u001b[0;32m      7\u001b[0m     \u001b[0mplayers\u001b[0m \u001b[1;33m=\u001b[0m \u001b[0mdraft\u001b[0m\u001b[1;33m.\u001b[0m\u001b[0mfilter_picks\u001b[0m\u001b[1;33m(\u001b[0m\u001b[0mplayers\u001b[0m\u001b[1;33m)\u001b[0m\u001b[1;33m\u001b[0m\u001b[1;33m\u001b[0m\u001b[0m\n\u001b[0;32m      8\u001b[0m     \u001b[0mplayers\u001b[0m \u001b[1;33m=\u001b[0m \u001b[0mdraft\u001b[0m\u001b[1;33m.\u001b[0m\u001b[0mmap_empty_positions\u001b[0m\u001b[1;33m(\u001b[0m\u001b[0mplayers\u001b[0m\u001b[1;33m)\u001b[0m\u001b[1;33m\u001b[0m\u001b[1;33m\u001b[0m\u001b[0m\n\u001b[1;32m----> 9\u001b[1;33m     \u001b[0mnp1\u001b[0m\u001b[1;33m,\u001b[0m \u001b[0mnp2\u001b[0m \u001b[1;33m=\u001b[0m \u001b[0mdl\u001b[0m\u001b[1;33m.\u001b[0m\u001b[0mnext_picks\u001b[0m\u001b[1;33m(\u001b[0m\u001b[0mdraft\u001b[0m\u001b[1;33m.\u001b[0m\u001b[0mpick_order\u001b[0m\u001b[1;33m,\u001b[0m\u001b[0mdraft\u001b[0m\u001b[1;33m.\u001b[0m\u001b[0mmypick\u001b[0m\u001b[1;33m,\u001b[0m \u001b[0mdraft\u001b[0m\u001b[1;33m.\u001b[0m\u001b[0mcurrent_pick\u001b[0m\u001b[1;33m+\u001b[0m\u001b[1;36m1\u001b[0m\u001b[1;33m)\u001b[0m\u001b[1;33m\u001b[0m\u001b[1;33m\u001b[0m\u001b[0m\n\u001b[0m\u001b[0;32m     10\u001b[0m     \u001b[0mprint\u001b[0m\u001b[1;33m(\u001b[0m\u001b[1;34mf\"P+0: {draft.current_pick +1}\"\u001b[0m\u001b[1;33m)\u001b[0m\u001b[1;33m\u001b[0m\u001b[1;33m\u001b[0m\u001b[0m\n\u001b[0;32m     11\u001b[0m     \u001b[0mprint\u001b[0m\u001b[1;33m(\u001b[0m\u001b[1;34mf\"P+1: {np1}\"\u001b[0m\u001b[1;33m)\u001b[0m\u001b[1;33m\u001b[0m\u001b[1;33m\u001b[0m\u001b[0m\n",
      "\u001b[1;32m~\\aaPython\\foot\\footb\\grandmaster\\draft_logic.py\u001b[0m in \u001b[0;36mnext_picks\u001b[1;34m(pick_order, mypick, thispick)\u001b[0m\n\u001b[0;32m      9\u001b[0m \u001b[1;32mdef\u001b[0m \u001b[0mnext_picks\u001b[0m\u001b[1;33m(\u001b[0m\u001b[0mpick_order\u001b[0m\u001b[1;33m,\u001b[0m \u001b[0mmypick\u001b[0m\u001b[1;33m,\u001b[0m \u001b[0mthispick\u001b[0m\u001b[1;33m)\u001b[0m\u001b[1;33m:\u001b[0m\u001b[1;33m\u001b[0m\u001b[1;33m\u001b[0m\u001b[0m\n\u001b[0;32m     10\u001b[0m     \u001b[0mnext_pick\u001b[0m \u001b[1;33m=\u001b[0m \u001b[0mpick_order\u001b[0m\u001b[1;33m.\u001b[0m\u001b[0mindex\u001b[0m\u001b[1;33m(\u001b[0m\u001b[0mmypick\u001b[0m\u001b[1;33m,\u001b[0m\u001b[0mthispick\u001b[0m\u001b[1;33m)\u001b[0m \u001b[1;33m+\u001b[0m \u001b[1;36m1\u001b[0m\u001b[1;33m\u001b[0m\u001b[1;33m\u001b[0m\u001b[0m\n\u001b[1;32m---> 11\u001b[1;33m     \u001b[0mnext_pick2\u001b[0m \u001b[1;33m=\u001b[0m \u001b[0mpick_order\u001b[0m\u001b[1;33m.\u001b[0m\u001b[0mindex\u001b[0m\u001b[1;33m(\u001b[0m\u001b[0mmypick\u001b[0m\u001b[1;33m,\u001b[0m\u001b[0mnext_pick\u001b[0m\u001b[1;33m)\u001b[0m \u001b[1;33m+\u001b[0m \u001b[1;36m1\u001b[0m\u001b[1;33m\u001b[0m\u001b[1;33m\u001b[0m\u001b[0m\n\u001b[0m\u001b[0;32m     12\u001b[0m     \u001b[1;32mreturn\u001b[0m \u001b[0mnext_pick\u001b[0m\u001b[1;33m,\u001b[0m \u001b[0mnext_pick2\u001b[0m\u001b[1;33m\u001b[0m\u001b[1;33m\u001b[0m\u001b[0m\n\u001b[0;32m     13\u001b[0m \u001b[1;33m\u001b[0m\u001b[0m\n",
      "\u001b[1;31mValueError\u001b[0m: 3 is not in list"
     ]
    }
   ],
   "source": [
    "oc = gm.tell_me_what_to_do(projections,probabilities,d)\n",
    "cols = ['player','team','position','points','oc_raw_0','oc_adj_0','pb_0','oc_raw_1','oc_adj_1','pb_1']\n",
    "print('Roster Needs')\n",
    "print(d.empty_positions)\n",
    "oc[cols].sort_values('oc_adj_1',ascending=False).round(3).head(20)"
   ]
  },
  {
   "cell_type": "code",
   "execution_count": 76,
   "metadata": {},
   "outputs": [
    {
     "name": "stdout",
     "output_type": "stream",
     "text": [
      "P+0: 92\n",
      "P+1: 98\n",
      "P+2: 103\n",
      "\n",
      "P+1: Alternatives\n",
      "position\n",
      "DST    117.944752\n",
      "K      133.500720\n",
      "QB     273.154754\n",
      "RB     105.676518\n",
      "TE      98.526116\n",
      "WR     107.457035\n",
      "Name: emax, dtype: float64\n",
      "\n",
      "P+2: Alternatives\n",
      "position\n",
      "DST    117.797401\n",
      "K      133.454133\n",
      "QB     264.268367\n",
      "RB     101.263302\n",
      "TE      98.119816\n",
      "WR     111.317098\n",
      "Name: emax, dtype: float64\n",
      "\n",
      "Roster Needs\n",
      "BE     4\n",
      "DST    1\n",
      "TE     1\n",
      "K      1\n",
      "Name: position, dtype: int64\n"
     ]
    },
    {
     "data": {
      "text/html": [
       "<div>\n",
       "<style scoped>\n",
       "    .dataframe tbody tr th:only-of-type {\n",
       "        vertical-align: middle;\n",
       "    }\n",
       "\n",
       "    .dataframe tbody tr th {\n",
       "        vertical-align: top;\n",
       "    }\n",
       "\n",
       "    .dataframe thead th {\n",
       "        text-align: right;\n",
       "    }\n",
       "</style>\n",
       "<table border=\"1\" class=\"dataframe\">\n",
       "  <thead>\n",
       "    <tr style=\"text-align: right;\">\n",
       "      <th></th>\n",
       "      <th>player</th>\n",
       "      <th>team</th>\n",
       "      <th>position</th>\n",
       "      <th>points</th>\n",
       "      <th>oc_raw_0</th>\n",
       "      <th>oc_adj_0</th>\n",
       "      <th>pb_0</th>\n",
       "      <th>oc_raw_1</th>\n",
       "      <th>oc_adj_1</th>\n",
       "      <th>pb_1</th>\n",
       "    </tr>\n",
       "  </thead>\n",
       "  <tbody>\n",
       "    <tr>\n",
       "      <th>3918298</th>\n",
       "      <td>Josh Allen</td>\n",
       "      <td>BUF</td>\n",
       "      <td>QB</td>\n",
       "      <td>294.319</td>\n",
       "      <td>21.164</td>\n",
       "      <td>4.622</td>\n",
       "      <td>0.728</td>\n",
       "      <td>30.051</td>\n",
       "      <td>8.006</td>\n",
       "      <td>0.888</td>\n",
       "    </tr>\n",
       "    <tr>\n",
       "      <th>2580</th>\n",
       "      <td>Drew Brees</td>\n",
       "      <td>NOS</td>\n",
       "      <td>QB</td>\n",
       "      <td>282.805</td>\n",
       "      <td>9.650</td>\n",
       "      <td>2.889</td>\n",
       "      <td>0.998</td>\n",
       "      <td>18.537</td>\n",
       "      <td>5.561</td>\n",
       "      <td>1.000</td>\n",
       "    </tr>\n",
       "    <tr>\n",
       "      <th>3139605</th>\n",
       "      <td>Marlon Mack</td>\n",
       "      <td>IND</td>\n",
       "      <td>RB</td>\n",
       "      <td>118.834</td>\n",
       "      <td>13.157</td>\n",
       "      <td>6.579</td>\n",
       "      <td>1.000</td>\n",
       "      <td>17.571</td>\n",
       "      <td>8.785</td>\n",
       "      <td>1.000</td>\n",
       "    </tr>\n",
       "    <tr>\n",
       "      <th>3128721</th>\n",
       "      <td>Sony Michel</td>\n",
       "      <td>NEP</td>\n",
       "      <td>RB</td>\n",
       "      <td>115.545</td>\n",
       "      <td>9.868</td>\n",
       "      <td>4.811</td>\n",
       "      <td>0.975</td>\n",
       "      <td>14.282</td>\n",
       "      <td>7.091</td>\n",
       "      <td>0.993</td>\n",
       "    </tr>\n",
       "    <tr>\n",
       "      <th>2979477</th>\n",
       "      <td>Tevin Coleman</td>\n",
       "      <td>SFO</td>\n",
       "      <td>RB</td>\n",
       "      <td>115.194</td>\n",
       "      <td>9.518</td>\n",
       "      <td>4.207</td>\n",
       "      <td>0.884</td>\n",
       "      <td>13.931</td>\n",
       "      <td>6.764</td>\n",
       "      <td>0.971</td>\n",
       "    </tr>\n",
       "    <tr>\n",
       "      <th>15920</th>\n",
       "      <td>Latavius Murray</td>\n",
       "      <td>NOS</td>\n",
       "      <td>RB</td>\n",
       "      <td>112.994</td>\n",
       "      <td>7.318</td>\n",
       "      <td>3.051</td>\n",
       "      <td>0.834</td>\n",
       "      <td>11.731</td>\n",
       "      <td>5.543</td>\n",
       "      <td>0.945</td>\n",
       "    </tr>\n",
       "    <tr>\n",
       "      <th>8439</th>\n",
       "      <td>Aaron Rodgers</td>\n",
       "      <td>GBP</td>\n",
       "      <td>QB</td>\n",
       "      <td>275.800</td>\n",
       "      <td>2.646</td>\n",
       "      <td>0.745</td>\n",
       "      <td>0.939</td>\n",
       "      <td>11.532</td>\n",
       "      <td>3.387</td>\n",
       "      <td>0.979</td>\n",
       "    </tr>\n",
       "    <tr>\n",
       "      <th>2573079</th>\n",
       "      <td>Carson Wentz</td>\n",
       "      <td>PHI</td>\n",
       "      <td>QB</td>\n",
       "      <td>274.353</td>\n",
       "      <td>1.199</td>\n",
       "      <td>0.186</td>\n",
       "      <td>0.516</td>\n",
       "      <td>10.085</td>\n",
       "      <td>2.169</td>\n",
       "      <td>0.717</td>\n",
       "    </tr>\n",
       "    <tr>\n",
       "      <th>16913</th>\n",
       "      <td>James White</td>\n",
       "      <td>NEP</td>\n",
       "      <td>RB</td>\n",
       "      <td>111.139</td>\n",
       "      <td>5.463</td>\n",
       "      <td>0.492</td>\n",
       "      <td>0.180</td>\n",
       "      <td>9.876</td>\n",
       "      <td>1.654</td>\n",
       "      <td>0.335</td>\n",
       "    </tr>\n",
       "    <tr>\n",
       "      <th>pit</th>\n",
       "      <td>Pittsburgh Steelers</td>\n",
       "      <td>PIT</td>\n",
       "      <td>DST</td>\n",
       "      <td>126.968</td>\n",
       "      <td>9.023</td>\n",
       "      <td>1.056</td>\n",
       "      <td>0.117</td>\n",
       "      <td>9.170</td>\n",
       "      <td>2.274</td>\n",
       "      <td>0.248</td>\n",
       "    </tr>\n",
       "    <tr>\n",
       "      <th>3049916</th>\n",
       "      <td>Matt Breida</td>\n",
       "      <td>MIA</td>\n",
       "      <td>RB</td>\n",
       "      <td>109.977</td>\n",
       "      <td>4.301</td>\n",
       "      <td>1.415</td>\n",
       "      <td>0.658</td>\n",
       "      <td>8.714</td>\n",
       "      <td>3.673</td>\n",
       "      <td>0.843</td>\n",
       "    </tr>\n",
       "    <tr>\n",
       "      <th>3916945</th>\n",
       "      <td>Darius Slayton</td>\n",
       "      <td>NYG</td>\n",
       "      <td>WR</td>\n",
       "      <td>118.580</td>\n",
       "      <td>11.123</td>\n",
       "      <td>1.073</td>\n",
       "      <td>0.193</td>\n",
       "      <td>7.263</td>\n",
       "      <td>1.362</td>\n",
       "      <td>0.375</td>\n",
       "    </tr>\n",
       "    <tr>\n",
       "      <th>3066158</th>\n",
       "      <td>Tarik Cohen</td>\n",
       "      <td>CHI</td>\n",
       "      <td>RB</td>\n",
       "      <td>107.851</td>\n",
       "      <td>2.174</td>\n",
       "      <td>0.022</td>\n",
       "      <td>0.020</td>\n",
       "      <td>6.588</td>\n",
       "      <td>0.155</td>\n",
       "      <td>0.047</td>\n",
       "    </tr>\n",
       "    <tr>\n",
       "      <th>13229</th>\n",
       "      <td>Rob Gronkowski</td>\n",
       "      <td>TBB</td>\n",
       "      <td>TE</td>\n",
       "      <td>104.647</td>\n",
       "      <td>6.121</td>\n",
       "      <td>6.114</td>\n",
       "      <td>0.999</td>\n",
       "      <td>6.527</td>\n",
       "      <td>6.527</td>\n",
       "      <td>1.000</td>\n",
       "    </tr>\n",
       "    <tr>\n",
       "      <th>3895856</th>\n",
       "      <td>Christian Kirk</td>\n",
       "      <td>ARI</td>\n",
       "      <td>WR</td>\n",
       "      <td>116.904</td>\n",
       "      <td>9.447</td>\n",
       "      <td>0.151</td>\n",
       "      <td>0.032</td>\n",
       "      <td>5.587</td>\n",
       "      <td>0.324</td>\n",
       "      <td>0.116</td>\n",
       "    </tr>\n",
       "    <tr>\n",
       "      <th>16804</th>\n",
       "      <td>John Brown</td>\n",
       "      <td>BUF</td>\n",
       "      <td>WR</td>\n",
       "      <td>114.766</td>\n",
       "      <td>7.309</td>\n",
       "      <td>0.026</td>\n",
       "      <td>0.007</td>\n",
       "      <td>3.449</td>\n",
       "      <td>0.034</td>\n",
       "      <td>0.020</td>\n",
       "    </tr>\n",
       "    <tr>\n",
       "      <th>sf</th>\n",
       "      <td>San Francisco 49ers</td>\n",
       "      <td>SFO</td>\n",
       "      <td>DST</td>\n",
       "      <td>120.704</td>\n",
       "      <td>2.759</td>\n",
       "      <td>1.655</td>\n",
       "      <td>0.600</td>\n",
       "      <td>2.906</td>\n",
       "      <td>2.252</td>\n",
       "      <td>0.775</td>\n",
       "    </tr>\n",
       "    <tr>\n",
       "      <th>13295</th>\n",
       "      <td>Emmanuel Sanders</td>\n",
       "      <td>NOS</td>\n",
       "      <td>WR</td>\n",
       "      <td>113.984</td>\n",
       "      <td>6.527</td>\n",
       "      <td>1.002</td>\n",
       "      <td>0.307</td>\n",
       "      <td>2.667</td>\n",
       "      <td>0.742</td>\n",
       "      <td>0.556</td>\n",
       "    </tr>\n",
       "    <tr>\n",
       "      <th>3932905</th>\n",
       "      <td>Diontae Johnson</td>\n",
       "      <td>PIT</td>\n",
       "      <td>WR</td>\n",
       "      <td>113.133</td>\n",
       "      <td>5.676</td>\n",
       "      <td>1.030</td>\n",
       "      <td>0.363</td>\n",
       "      <td>1.816</td>\n",
       "      <td>0.568</td>\n",
       "      <td>0.626</td>\n",
       "    </tr>\n",
       "    <tr>\n",
       "      <th>3046439</th>\n",
       "      <td>Hunter Henry</td>\n",
       "      <td>LAC</td>\n",
       "      <td>TE</td>\n",
       "      <td>99.918</td>\n",
       "      <td>1.392</td>\n",
       "      <td>1.041</td>\n",
       "      <td>0.748</td>\n",
       "      <td>1.798</td>\n",
       "      <td>1.537</td>\n",
       "      <td>0.855</td>\n",
       "    </tr>\n",
       "  </tbody>\n",
       "</table>\n",
       "</div>"
      ],
      "text/plain": [
       "                      player team position   points  oc_raw_0  oc_adj_0  \\\n",
       "3918298           Josh Allen  BUF       QB  294.319    21.164     4.622   \n",
       "2580              Drew Brees  NOS       QB  282.805     9.650     2.889   \n",
       "3139605          Marlon Mack  IND       RB  118.834    13.157     6.579   \n",
       "3128721          Sony Michel  NEP       RB  115.545     9.868     4.811   \n",
       "2979477        Tevin Coleman  SFO       RB  115.194     9.518     4.207   \n",
       "15920        Latavius Murray  NOS       RB  112.994     7.318     3.051   \n",
       "8439           Aaron Rodgers  GBP       QB  275.800     2.646     0.745   \n",
       "2573079         Carson Wentz  PHI       QB  274.353     1.199     0.186   \n",
       "16913            James White  NEP       RB  111.139     5.463     0.492   \n",
       "pit      Pittsburgh Steelers  PIT      DST  126.968     9.023     1.056   \n",
       "3049916          Matt Breida  MIA       RB  109.977     4.301     1.415   \n",
       "3916945       Darius Slayton  NYG       WR  118.580    11.123     1.073   \n",
       "3066158          Tarik Cohen  CHI       RB  107.851     2.174     0.022   \n",
       "13229         Rob Gronkowski  TBB       TE  104.647     6.121     6.114   \n",
       "3895856       Christian Kirk  ARI       WR  116.904     9.447     0.151   \n",
       "16804             John Brown  BUF       WR  114.766     7.309     0.026   \n",
       "sf       San Francisco 49ers  SFO      DST  120.704     2.759     1.655   \n",
       "13295       Emmanuel Sanders  NOS       WR  113.984     6.527     1.002   \n",
       "3932905      Diontae Johnson  PIT       WR  113.133     5.676     1.030   \n",
       "3046439         Hunter Henry  LAC       TE   99.918     1.392     1.041   \n",
       "\n",
       "          pb_0  oc_raw_1  oc_adj_1   pb_1  \n",
       "3918298  0.728    30.051     8.006  0.888  \n",
       "2580     0.998    18.537     5.561  1.000  \n",
       "3139605  1.000    17.571     8.785  1.000  \n",
       "3128721  0.975    14.282     7.091  0.993  \n",
       "2979477  0.884    13.931     6.764  0.971  \n",
       "15920    0.834    11.731     5.543  0.945  \n",
       "8439     0.939    11.532     3.387  0.979  \n",
       "2573079  0.516    10.085     2.169  0.717  \n",
       "16913    0.180     9.876     1.654  0.335  \n",
       "pit      0.117     9.170     2.274  0.248  \n",
       "3049916  0.658     8.714     3.673  0.843  \n",
       "3916945  0.193     7.263     1.362  0.375  \n",
       "3066158  0.020     6.588     0.155  0.047  \n",
       "13229    0.999     6.527     6.527  1.000  \n",
       "3895856  0.032     5.587     0.324  0.116  \n",
       "16804    0.007     3.449     0.034  0.020  \n",
       "sf       0.600     2.906     2.252  0.775  \n",
       "13295    0.307     2.667     0.742  0.556  \n",
       "3932905  0.363     1.816     0.568  0.626  \n",
       "3046439  0.748     1.798     1.537  0.855  "
      ]
     },
     "execution_count": 76,
     "metadata": {},
     "output_type": "execute_result"
    }
   ],
   "source": [
    "oc = gm.tell_me_what_to_do(projections,probabilities,d)\n",
    "cols = ['player','team','position','points','oc_raw_0','oc_adj_0','pb_0','oc_raw_1','oc_adj_1','pb_1']\n",
    "print('Roster Needs')\n",
    "print(d.empty_positions)\n",
    "oc[cols].sort_values('oc_raw_1',ascending=False).round(3).head(20)"
   ]
  },
  {
   "cell_type": "code",
   "execution_count": null,
   "metadata": {},
   "outputs": [],
   "source": [
    "d.need_flex"
   ]
  },
  {
   "cell_type": "markdown",
   "metadata": {},
   "source": [
    "# Remove players you don't want\n",
    "\n",
    "Leonard Fournette was just released from the Jaguars - so we know his projection data doesn't represent his current prospects. \n",
    "\n",
    "We can add him to the blacklist so that he doesn't pop up as a recommendation."
   ]
  },
  {
   "cell_type": "code",
   "execution_count": null,
   "metadata": {},
   "outputs": [],
   "source": [
    "projections = gm.dl.blacklist_player('Leonard Fournette','JAC',projections)"
   ]
  },
  {
   "cell_type": "markdown",
   "metadata": {},
   "source": [
    "You can also remove him from the blacklist if you change your mind, or added by mistake or whatever. Just use the same syntax, but its ```unblacklist_player()``` instead of ```blacklist_player()```. Creative I know..."
   ]
  },
  {
   "cell_type": "code",
   "execution_count": null,
   "metadata": {},
   "outputs": [],
   "source": [
    "projections = gm.dl.unblacklist_player('Leonard Fournette','JAC',projections)"
   ]
  },
  {
   "cell_type": "markdown",
   "metadata": {},
   "source": [
    "Feel free to explore the package and classes while you wait for your turn to return"
   ]
  },
  {
   "cell_type": "code",
   "execution_count": null,
   "metadata": {},
   "outputs": [],
   "source": [
    "d.current_pick"
   ]
  },
  {
   "cell_type": "code",
   "execution_count": null,
   "metadata": {},
   "outputs": [],
   "source": [
    "np1, np2 = gm.dl.next_picks(d.pick_order,d.myteam,d.current_pick)"
   ]
  },
  {
   "cell_type": "code",
   "execution_count": null,
   "metadata": {},
   "outputs": [],
   "source": [
    "len(d.pickids)"
   ]
  },
  {
   "cell_type": "code",
   "execution_count": null,
   "metadata": {},
   "outputs": [],
   "source": []
  }
 ],
 "metadata": {
  "kernelspec": {
   "display_name": "Python 3",
   "language": "python",
   "name": "python3"
  },
  "language_info": {
   "codemirror_mode": {
    "name": "ipython",
    "version": 3
   },
   "file_extension": ".py",
   "mimetype": "text/x-python",
   "name": "python",
   "nbconvert_exporter": "python",
   "pygments_lexer": "ipython3",
   "version": "3.8.5"
  }
 },
 "nbformat": 4,
 "nbformat_minor": 4
}
